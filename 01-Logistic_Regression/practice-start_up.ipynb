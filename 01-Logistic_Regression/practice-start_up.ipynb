{
 "cells": [
  {
   "cell_type": "code",
   "execution_count": 1,
   "id": "7e9eae59-4a2a-47b3-90b2-82dabc50ddcf",
   "metadata": {},
   "outputs": [],
   "source": [
    "#imports\n",
    "import pandas as pd\n",
    "from pathlib import Path\n"
   ]
  },
  {
   "cell_type": "code",
   "execution_count": 2,
   "id": "59fc7e11-bad9-4490-8cc5-679f737bf62f",
   "metadata": {},
   "outputs": [
    {
     "data": {
      "text/html": [
       "<div>\n",
       "<style scoped>\n",
       "    .dataframe tbody tr th:only-of-type {\n",
       "        vertical-align: middle;\n",
       "    }\n",
       "\n",
       "    .dataframe tbody tr th {\n",
       "        vertical-align: top;\n",
       "    }\n",
       "\n",
       "    .dataframe thead th {\n",
       "        text-align: right;\n",
       "    }\n",
       "</style>\n",
       "<table border=\"1\" class=\"dataframe\">\n",
       "  <thead>\n",
       "    <tr style=\"text-align: right;\">\n",
       "      <th></th>\n",
       "      <th>Financial Performance</th>\n",
       "      <th>Industry Health</th>\n",
       "      <th>Firm Category</th>\n",
       "    </tr>\n",
       "  </thead>\n",
       "  <tbody>\n",
       "    <tr>\n",
       "      <th>0</th>\n",
       "      <td>-2.761650</td>\n",
       "      <td>-2.414516</td>\n",
       "      <td>0</td>\n",
       "    </tr>\n",
       "    <tr>\n",
       "      <th>1</th>\n",
       "      <td>2.867162</td>\n",
       "      <td>1.989524</td>\n",
       "      <td>1</td>\n",
       "    </tr>\n",
       "    <tr>\n",
       "      <th>2</th>\n",
       "      <td>-0.701230</td>\n",
       "      <td>-1.074845</td>\n",
       "      <td>0</td>\n",
       "    </tr>\n",
       "    <tr>\n",
       "      <th>3</th>\n",
       "      <td>-3.516214</td>\n",
       "      <td>-1.928217</td>\n",
       "      <td>0</td>\n",
       "    </tr>\n",
       "    <tr>\n",
       "      <th>4</th>\n",
       "      <td>-0.981901</td>\n",
       "      <td>-2.798853</td>\n",
       "      <td>0</td>\n",
       "    </tr>\n",
       "    <tr>\n",
       "      <th>...</th>\n",
       "      <td>...</td>\n",
       "      <td>...</td>\n",
       "      <td>...</td>\n",
       "    </tr>\n",
       "    <tr>\n",
       "      <th>1319</th>\n",
       "      <td>-2.458081</td>\n",
       "      <td>-3.319800</td>\n",
       "      <td>0</td>\n",
       "    </tr>\n",
       "    <tr>\n",
       "      <th>1320</th>\n",
       "      <td>-2.261200</td>\n",
       "      <td>-3.074141</td>\n",
       "      <td>0</td>\n",
       "    </tr>\n",
       "    <tr>\n",
       "      <th>1321</th>\n",
       "      <td>-0.959020</td>\n",
       "      <td>-2.249914</td>\n",
       "      <td>0</td>\n",
       "    </tr>\n",
       "    <tr>\n",
       "      <th>1322</th>\n",
       "      <td>-1.101270</td>\n",
       "      <td>-1.755786</td>\n",
       "      <td>0</td>\n",
       "    </tr>\n",
       "    <tr>\n",
       "      <th>1323</th>\n",
       "      <td>-1.884010</td>\n",
       "      <td>-0.385503</td>\n",
       "      <td>0</td>\n",
       "    </tr>\n",
       "  </tbody>\n",
       "</table>\n",
       "<p>1324 rows × 3 columns</p>\n",
       "</div>"
      ],
      "text/plain": [
       "      Financial Performance  Industry Health  Firm Category\n",
       "0                 -2.761650        -2.414516              0\n",
       "1                  2.867162         1.989524              1\n",
       "2                 -0.701230        -1.074845              0\n",
       "3                 -3.516214        -1.928217              0\n",
       "4                 -0.981901        -2.798853              0\n",
       "...                     ...              ...            ...\n",
       "1319              -2.458081        -3.319800              0\n",
       "1320              -2.261200        -3.074141              0\n",
       "1321              -0.959020        -2.249914              0\n",
       "1322              -1.101270        -1.755786              0\n",
       "1323              -1.884010        -0.385503              0\n",
       "\n",
       "[1324 rows x 3 columns]"
      ]
     },
     "execution_count": 2,
     "metadata": {},
     "output_type": "execute_result"
    }
   ],
   "source": [
    "#import csv file\n",
    "df = pd.read_csv(Path(\"./start-up_success.csv\"))\n",
    "df"
   ]
  },
  {
   "cell_type": "markdown",
   "id": "ebf9a1d5-b26e-4bc4-9b49-3e018756d73d",
   "metadata": {},
   "source": [
    "# Create Training Dataset"
   ]
  },
  {
   "cell_type": "code",
   "execution_count": null,
   "id": "c6dce682-4026-4d8c-b7e8-d49676dbfe0c",
   "metadata": {},
   "outputs": [],
   "source": [
    "from sklearn.model_selection import train_test_split"
   ]
  },
  {
   "cell_type": "code",
   "execution_count": 4,
   "id": "a341e2b3-4585-4ab2-8ea6-2ae08395ebee",
   "metadata": {},
   "outputs": [],
   "source": [
    "#split training and testing sets\n",
    "#create X, or features DF\n",
    "features = df[['Financial Performance', 'Industry Health']]"
   ]
  },
  {
   "cell_type": "code",
   "execution_count": 5,
   "id": "5f2c8fa6-5f4b-46a4-9b94-b48da34b434b",
   "metadata": {},
   "outputs": [],
   "source": [
    "#create Y, or target DF\n",
    "target = df['Firm Category']"
   ]
  },
  {
   "cell_type": "code",
   "execution_count": 7,
   "id": "5be2f819-fac6-4ef2-a763-4ee953a303fa",
   "metadata": {},
   "outputs": [],
   "source": [
    "# Use train_tes_split to seperate the data\n",
    "training_features, testing_features, training_targets, testing_targets = train_test_split(features, target)"
   ]
  },
  {
   "cell_type": "code",
   "execution_count": 8,
   "id": "56224506-1178-4930-9204-01c7c1b6c0b0",
   "metadata": {},
   "outputs": [
    {
     "data": {
      "text/html": [
       "<div>\n",
       "<style scoped>\n",
       "    .dataframe tbody tr th:only-of-type {\n",
       "        vertical-align: middle;\n",
       "    }\n",
       "\n",
       "    .dataframe tbody tr th {\n",
       "        vertical-align: top;\n",
       "    }\n",
       "\n",
       "    .dataframe thead th {\n",
       "        text-align: right;\n",
       "    }\n",
       "</style>\n",
       "<table border=\"1\" class=\"dataframe\">\n",
       "  <thead>\n",
       "    <tr style=\"text-align: right;\">\n",
       "      <th></th>\n",
       "      <th>Financial Performance</th>\n",
       "      <th>Industry Health</th>\n",
       "    </tr>\n",
       "  </thead>\n",
       "  <tbody>\n",
       "    <tr>\n",
       "      <th>399</th>\n",
       "      <td>-2.500274</td>\n",
       "      <td>-2.475074</td>\n",
       "    </tr>\n",
       "    <tr>\n",
       "      <th>1308</th>\n",
       "      <td>-0.460948</td>\n",
       "      <td>-2.484785</td>\n",
       "    </tr>\n",
       "    <tr>\n",
       "      <th>504</th>\n",
       "      <td>-1.706934</td>\n",
       "      <td>-2.835672</td>\n",
       "    </tr>\n",
       "    <tr>\n",
       "      <th>312</th>\n",
       "      <td>-1.689812</td>\n",
       "      <td>-2.283839</td>\n",
       "    </tr>\n",
       "    <tr>\n",
       "      <th>178</th>\n",
       "      <td>2.302264</td>\n",
       "      <td>2.984239</td>\n",
       "    </tr>\n",
       "  </tbody>\n",
       "</table>\n",
       "</div>"
      ],
      "text/plain": [
       "      Financial Performance  Industry Health\n",
       "399               -2.500274        -2.475074\n",
       "1308              -0.460948        -2.484785\n",
       "504               -1.706934        -2.835672\n",
       "312               -1.689812        -2.283839\n",
       "178                2.302264         2.984239"
      ]
     },
     "execution_count": 8,
     "metadata": {},
     "output_type": "execute_result"
    }
   ],
   "source": [
    "training_features.head()"
   ]
  },
  {
   "cell_type": "markdown",
   "id": "27aff70a-eeb4-4f38-b659-86a560eff819",
   "metadata": {},
   "source": [
    "# Create a Model"
   ]
  },
  {
   "cell_type": "code",
   "execution_count": 10,
   "id": "29bed4fb-cc6c-46a7-89bb-5c9cedfa8b3b",
   "metadata": {},
   "outputs": [],
   "source": [
    "# Import LogisticRegression from sklearn\n",
    "from sklearn.linear_model import LogisticRegression"
   ]
  },
  {
   "cell_type": "code",
   "execution_count": 11,
   "id": "e4cf183d-5495-4bc8-9939-55a5cebd284e",
   "metadata": {},
   "outputs": [],
   "source": [
    "logistic_regression_model = LogisticRegression()"
   ]
  },
  {
   "cell_type": "code",
   "execution_count": 13,
   "id": "5ae4835d-2803-41c1-be6c-aa6b7016b5bd",
   "metadata": {},
   "outputs": [
    {
     "data": {
      "text/plain": [
       "LogisticRegression()"
      ]
     },
     "execution_count": 13,
     "metadata": {},
     "output_type": "execute_result"
    }
   ],
   "source": [
    "#fit the model\n",
    "logistic_regression_model.fit(training_features, training_targets)"
   ]
  },
  {
   "cell_type": "code",
   "execution_count": 14,
   "id": "82393ab2-7cc1-418e-8995-e3061e99b710",
   "metadata": {},
   "outputs": [
    {
     "data": {
      "text/html": [
       "<div>\n",
       "<style scoped>\n",
       "    .dataframe tbody tr th:only-of-type {\n",
       "        vertical-align: middle;\n",
       "    }\n",
       "\n",
       "    .dataframe tbody tr th {\n",
       "        vertical-align: top;\n",
       "    }\n",
       "\n",
       "    .dataframe thead th {\n",
       "        text-align: right;\n",
       "    }\n",
       "</style>\n",
       "<table border=\"1\" class=\"dataframe\">\n",
       "  <thead>\n",
       "    <tr style=\"text-align: right;\">\n",
       "      <th></th>\n",
       "      <th>Prediction</th>\n",
       "      <th>Actual</th>\n",
       "    </tr>\n",
       "  </thead>\n",
       "  <tbody>\n",
       "    <tr>\n",
       "      <th>399</th>\n",
       "      <td>0</td>\n",
       "      <td>0</td>\n",
       "    </tr>\n",
       "    <tr>\n",
       "      <th>1308</th>\n",
       "      <td>0</td>\n",
       "      <td>0</td>\n",
       "    </tr>\n",
       "    <tr>\n",
       "      <th>504</th>\n",
       "      <td>0</td>\n",
       "      <td>0</td>\n",
       "    </tr>\n",
       "    <tr>\n",
       "      <th>312</th>\n",
       "      <td>0</td>\n",
       "      <td>0</td>\n",
       "    </tr>\n",
       "    <tr>\n",
       "      <th>178</th>\n",
       "      <td>1</td>\n",
       "      <td>1</td>\n",
       "    </tr>\n",
       "    <tr>\n",
       "      <th>...</th>\n",
       "      <td>...</td>\n",
       "      <td>...</td>\n",
       "    </tr>\n",
       "    <tr>\n",
       "      <th>677</th>\n",
       "      <td>1</td>\n",
       "      <td>1</td>\n",
       "    </tr>\n",
       "    <tr>\n",
       "      <th>991</th>\n",
       "      <td>0</td>\n",
       "      <td>0</td>\n",
       "    </tr>\n",
       "    <tr>\n",
       "      <th>469</th>\n",
       "      <td>0</td>\n",
       "      <td>0</td>\n",
       "    </tr>\n",
       "    <tr>\n",
       "      <th>1214</th>\n",
       "      <td>0</td>\n",
       "      <td>0</td>\n",
       "    </tr>\n",
       "    <tr>\n",
       "      <th>53</th>\n",
       "      <td>0</td>\n",
       "      <td>0</td>\n",
       "    </tr>\n",
       "  </tbody>\n",
       "</table>\n",
       "<p>993 rows × 2 columns</p>\n",
       "</div>"
      ],
      "text/plain": [
       "      Prediction  Actual\n",
       "399            0       0\n",
       "1308           0       0\n",
       "504            0       0\n",
       "312            0       0\n",
       "178            1       1\n",
       "...          ...     ...\n",
       "677            1       1\n",
       "991            0       0\n",
       "469            0       0\n",
       "1214           0       0\n",
       "53             0       0\n",
       "\n",
       "[993 rows x 2 columns]"
      ]
     },
     "execution_count": 14,
     "metadata": {},
     "output_type": "execute_result"
    }
   ],
   "source": [
    "# Generate predictions from the model we just fit\n",
    "predictions = logistic_regression_model.predict(training_features)\n",
    "\n",
    "# Convert those predictions (and actual values) to a DataFrame\n",
    "results_df = pd.DataFrame({\"Prediction\": predictions, \"Actual\": training_targets})\n",
    "results_df"
   ]
  },
  {
   "cell_type": "code",
   "execution_count": 15,
   "id": "399db0d8-766d-45fd-896f-ac5f670f9ddc",
   "metadata": {},
   "outputs": [
    {
     "data": {
      "text/html": [
       "<div>\n",
       "<style scoped>\n",
       "    .dataframe tbody tr th:only-of-type {\n",
       "        vertical-align: middle;\n",
       "    }\n",
       "\n",
       "    .dataframe tbody tr th {\n",
       "        vertical-align: top;\n",
       "    }\n",
       "\n",
       "    .dataframe thead th {\n",
       "        text-align: right;\n",
       "    }\n",
       "</style>\n",
       "<table border=\"1\" class=\"dataframe\">\n",
       "  <thead>\n",
       "    <tr style=\"text-align: right;\">\n",
       "      <th></th>\n",
       "      <th>Testing Data Predictions</th>\n",
       "      <th>Testing Data Actual Targets</th>\n",
       "    </tr>\n",
       "  </thead>\n",
       "  <tbody>\n",
       "    <tr>\n",
       "      <th>483</th>\n",
       "      <td>0</td>\n",
       "      <td>0</td>\n",
       "    </tr>\n",
       "    <tr>\n",
       "      <th>277</th>\n",
       "      <td>1</td>\n",
       "      <td>1</td>\n",
       "    </tr>\n",
       "    <tr>\n",
       "      <th>1303</th>\n",
       "      <td>0</td>\n",
       "      <td>0</td>\n",
       "    </tr>\n",
       "    <tr>\n",
       "      <th>1259</th>\n",
       "      <td>0</td>\n",
       "      <td>0</td>\n",
       "    </tr>\n",
       "    <tr>\n",
       "      <th>340</th>\n",
       "      <td>0</td>\n",
       "      <td>0</td>\n",
       "    </tr>\n",
       "    <tr>\n",
       "      <th>...</th>\n",
       "      <td>...</td>\n",
       "      <td>...</td>\n",
       "    </tr>\n",
       "    <tr>\n",
       "      <th>209</th>\n",
       "      <td>1</td>\n",
       "      <td>1</td>\n",
       "    </tr>\n",
       "    <tr>\n",
       "      <th>1208</th>\n",
       "      <td>0</td>\n",
       "      <td>0</td>\n",
       "    </tr>\n",
       "    <tr>\n",
       "      <th>31</th>\n",
       "      <td>0</td>\n",
       "      <td>0</td>\n",
       "    </tr>\n",
       "    <tr>\n",
       "      <th>1085</th>\n",
       "      <td>0</td>\n",
       "      <td>0</td>\n",
       "    </tr>\n",
       "    <tr>\n",
       "      <th>356</th>\n",
       "      <td>0</td>\n",
       "      <td>0</td>\n",
       "    </tr>\n",
       "  </tbody>\n",
       "</table>\n",
       "<p>331 rows × 2 columns</p>\n",
       "</div>"
      ],
      "text/plain": [
       "      Testing Data Predictions  Testing Data Actual Targets\n",
       "483                          0                            0\n",
       "277                          1                            1\n",
       "1303                         0                            0\n",
       "1259                         0                            0\n",
       "340                          0                            0\n",
       "...                        ...                          ...\n",
       "209                          1                            1\n",
       "1208                         0                            0\n",
       "31                           0                            0\n",
       "1085                         0                            0\n",
       "356                          0                            0\n",
       "\n",
       "[331 rows x 2 columns]"
      ]
     },
     "execution_count": 15,
     "metadata": {},
     "output_type": "execute_result"
    }
   ],
   "source": [
    "# Apply the fitted model to the test dataset\n",
    "testing_predictions = logistic_regression_model.predict(testing_features)\n",
    "\n",
    "# Save both the test predictions and actual test values to a DataFrame\n",
    "results_df = pd.DataFrame({\n",
    "    \"Testing Data Predictions\": testing_predictions,\n",
    "    \"Testing Data Actual Targets\": testing_targets})\n",
    "results_df"
   ]
  },
  {
   "cell_type": "code",
   "execution_count": 16,
   "id": "2483e44a-31dd-4fa2-ab87-9405f20608e0",
   "metadata": {},
   "outputs": [
    {
     "data": {
      "text/plain": [
       "1.0"
      ]
     },
     "execution_count": 16,
     "metadata": {},
     "output_type": "execute_result"
    }
   ],
   "source": [
    "# Import the accuracy_score function\n",
    "from sklearn.metrics import accuracy_score\n",
    "\n",
    "# Calculate the model's accuracy on the test dataset\n",
    "accuracy_score(testing_targets, testing_predictions)"
   ]
  },
  {
   "cell_type": "code",
   "execution_count": null,
   "id": "dbb409eb-066f-48e8-ad9b-3d3a58d917ac",
   "metadata": {},
   "outputs": [],
   "source": []
  }
 ],
 "metadata": {
  "kernelspec": {
   "display_name": "vdev",
   "language": "python",
   "name": "vdev"
  },
  "language_info": {
   "codemirror_mode": {
    "name": "ipython",
    "version": 3
   },
   "file_extension": ".py",
   "mimetype": "text/x-python",
   "name": "python",
   "nbconvert_exporter": "python",
   "pygments_lexer": "ipython3",
   "version": "3.7.13"
  }
 },
 "nbformat": 4,
 "nbformat_minor": 5
}
