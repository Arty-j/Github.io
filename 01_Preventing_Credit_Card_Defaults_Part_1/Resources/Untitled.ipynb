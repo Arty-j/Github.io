{
 "cells": [
  {
   "cell_type": "markdown",
   "id": "f68c28ed-8cde-46dc-9cf1-c0ec86445552",
   "metadata": {},
   "source": []
  },
  {
   "cell_type": "code",
   "execution_count": null,
   "id": "162ff77b-c46f-4605-b93c-20688ad5a82d",
   "metadata": {},
   "outputs": [],
   "source": [
    "# Imports\n",
    "import pandas as pd\n",
    "from pathlib import Path\n",
    "import tensorflow as tf\n",
    "from tensorflow.keras.layers import Dense\n",
    "from tensorflow.keras.models import Sequential\n",
    "from sklearn.preprocessing import StandardScaler\n",
    "from sklearn.model_selection import train_test_split"
   ]
  },
  {
   "cell_type": "code",
   "execution_count": null,
   "id": "8e3995b4-d85a-462f-97f2-edcdbbc01499",
   "metadata": {},
   "outputs": [],
   "source": [
    "# Read the credit_card_transactions.csv file from the Resources folder into a Pandas DataFrame\n",
    "cc_transactions_df = pd.read_csv(Path('../Resources/credit_card_transactions.csv'))\n",
    "\n",
    "# Review the DataFrame\n",
    "cc_transactions_df.head()"
   ]
  },
  {
   "cell_type": "code",
   "execution_count": null,
   "id": "bf64bf91-f027-4065-b438-d19898d8bf49",
   "metadata": {},
   "outputs": [],
   "source": [
    "# Define the target set by selecting the isFraud column\n",
    "y = cc_transactions_df['isFraud']\n",
    "\n",
    "# Display a sample of y\n",
    "y[:5]"
   ]
  },
  {
   "cell_type": "code",
   "execution_count": null,
   "id": "a5ad4149-406f-44eb-b82f-61e38b380969",
   "metadata": {},
   "outputs": [],
   "source": [
    "# Define features set X by selecting all columns but the isFraud\n",
    "X = cc_transactions_df.drop(columns=['isFraud']).copy()\n",
    "\n",
    "# Display the features DataFrame\n",
    "X.head()\n"
   ]
  },
  {
   "cell_type": "markdown",
   "id": "9cbacf35-ea0a-4d45-bfd4-31573c94b3c7",
   "metadata": {},
   "source": [
    "# Split the Data train and test, Scale the Data"
   ]
  },
  {
   "cell_type": "code",
   "execution_count": null,
   "id": "768c7f4e-f37e-4398-bd97-842701a86e7a",
   "metadata": {},
   "outputs": [],
   "source": [
    "# Create training and testing datasets using train_teat_split\n",
    "# Assign the function a random_state equal to 1\n",
    "X_train, X_test, y_train, y_test = train_test_split(X, y, random_state=1)"
   ]
  },
  {
   "cell_type": "code",
   "execution_count": null,
   "id": "f559a22b-0b20-46db-bfaf-5ada696fbbd6",
   "metadata": {},
   "outputs": [],
   "source": [
    "# Create the StandardScaler instance\n",
    "X_scaler = StandardScaler()"
   ]
  },
  {
   "cell_type": "code",
   "execution_count": null,
   "id": "07604b5d-23d6-4892-958c-119e35f2fe4b",
   "metadata": {},
   "outputs": [],
   "source": [
    "# Fit the scaler to the features training dataset\n",
    "X_scaler.fit(X_train)"
   ]
  },
  {
   "cell_type": "code",
   "execution_count": null,
   "id": "2d3a2823-b809-49ed-80d3-45af47c174fd",
   "metadata": {},
   "outputs": [],
   "source": [
    "# Scale both the training and testing data from the features dataset\n",
    "X_train_scaled = X_scaler.transform(X_train)\n",
    "X_test_scaled = X_scaler.transform(X_test)"
   ]
  },
  {
   "cell_type": "markdown",
   "id": "d39b9657-ad9e-4c5f-8f9e-41e732f05e10",
   "metadata": {},
   "source": [
    "# Create and Train a Deep Neural Network"
   ]
  },
  {
   "cell_type": "code",
   "execution_count": null,
   "id": "1078c5ea-1854-413d-9170-ffa2d5a557c0",
   "metadata": {},
   "outputs": [],
   "source": [
    "# Define the the number of inputs to the model\n",
    "number_inputs = 9\n",
    "\n",
    "# Define the number of hidden nodes for the first hidden layer\n",
    "hidden_nodes_layer1 = 18\n",
    "\n",
    "# Define the number of hidden nodes for the second hidden layer\n",
    "hidden_nodes_layer2 = 8\n",
    "\n",
    "# Create the Sequential model instance\n",
    "nn = Sequential()\n",
    "\n",
    "# Add the first Dense layer specifying the number of inputs, the number of hidden nodes, and the activation function\n",
    "nn.add(Dense(units=hidden_nodes_layer1, input_dim=number_inputs, activation='relu'))\n",
    "\n",
    "# Add the second Dense layer specifying the number of hidden nodes and the activation function\n",
    "nn.add(Dense(units=hidden_nodes_layer2, activation='relu'))\n",
    "\n",
    "# Add the output layer to the model specifying the number of output neurons and activation function\n",
    "nn.add(Dense(units=1, activation='sigmoid'))\n"
   ]
  },
  {
   "cell_type": "code",
   "execution_count": null,
   "id": "325b8490-e12c-4161-8d25-29920085a278",
   "metadata": {},
   "outputs": [],
   "source": [
    "# Display the Sequential model summary\n",
    "nn.summary()"
   ]
  },
  {
   "cell_type": "markdown",
   "id": "322871b3-31f9-4f8f-abd4-ed1c45d6f188",
   "metadata": {},
   "source": [
    "# Compile & Fit & plot accuracy vs loss"
   ]
  },
  {
   "cell_type": "code",
   "execution_count": null,
   "id": "b5c78493-e19a-4269-9ee5-4d83a1dde99f",
   "metadata": {},
   "outputs": [],
   "source": [
    "# Compile the Sequential model\n",
    "nn.compile(loss='binary_crossentropy', optimizer='adam', metrics=['accuracy'])"
   ]
  },
  {
   "cell_type": "code",
   "execution_count": null,
   "id": "b11f5a28-eee4-4c75-af07-d14a0e1bc1cf",
   "metadata": {},
   "outputs": [],
   "source": [
    "# Fit the model using 100 epochs and the training data\n",
    "model = nn.fit(X_train_scaled, y_train, epochs=100)"
   ]
  },
  {
   "cell_type": "code",
   "execution_count": null,
   "id": "cfaca6a4-0145-42bc-9eb0-12cbc419821d",
   "metadata": {},
   "outputs": [],
   "source": [
    "# Create a DataFrame using the model history and an index parameter\n",
    "model_plot_df = pd.DataFrame(model.history, index=range(1, len(model.history['loss']) + 1))"
   ]
  },
  {
   "cell_type": "code",
   "execution_count": null,
   "id": "e2519e0d-d3e1-47fb-9a8e-ca6f1365a1e2",
   "metadata": {},
   "outputs": [],
   "source": [
    "# Vizualize the model plot where the y-axis displays the loss metric\n",
    "model_plot_df.plot(y='loss')"
   ]
  },
  {
   "cell_type": "code",
   "execution_count": null,
   "id": "e5e3eae7-faba-4b39-9581-5dc12cf42003",
   "metadata": {},
   "outputs": [],
   "source": [
    "# Vizualize the model plot where the y-axis displays the accuracy metric\n",
    "model_plot_df.plot(y='accuracy')"
   ]
  },
  {
   "cell_type": "code",
   "execution_count": null,
   "id": "3b774d35-3e3b-406e-8c73-c7afc0e59b15",
   "metadata": {},
   "outputs": [],
   "source": [
    "# Evaluate the model loss and accuracy metrics using the evaluate method and the test data\n",
    "model_loss, model_accuracy = nn.evaluate(X_test_scaled, y_test, verbose=2)\n",
    "\n",
    "# Display the evaluation results\n",
    "print(f\"Loss: {model_loss}, Accuracy: {model_accuracy}\")"
   ]
  },
  {
   "cell_type": "markdown",
   "id": "61122f60-59ba-4b2f-bb8b-c771aa1b64d9",
   "metadata": {},
   "source": [
    "# Predict\n",
    "GET NEW DATA\n",
    "run predict"
   ]
  },
  {
   "cell_type": "code",
   "execution_count": null,
   "id": "62fa19d5-8c7a-4f3f-96dd-53af279c71ee",
   "metadata": {},
   "outputs": [],
   "source": [
    "# Create 10 new samples of dummy data\n",
    "new_X, new_y = make_blobs(n_samples=10, centers=2, n_features=2, random_state=1)"
   ]
  },
  {
   "cell_type": "code",
   "execution_count": null,
   "id": "0d7dc0d9-4e0b-415c-8cc6-2b825125de6f",
   "metadata": {},
   "outputs": [],
   "source": [
    "# Make predictions\n",
    "predictions = (neuron.predict(new_X) > 0.5).astype(\"int32\") "
   ]
  },
  {
   "cell_type": "markdown",
   "id": "3cbae9b1-b03e-45cf-a144-8f6a98078fcd",
   "metadata": {},
   "source": [
    "# Compare Predition to actual"
   ]
  },
  {
   "cell_type": "code",
   "execution_count": null,
   "id": "b8ad16e1-6fed-4057-8ee3-1509be37d7c1",
   "metadata": {},
   "outputs": [],
   "source": [
    "# Create a DataFrame to compare the predictions with the actual values\n",
    "results = pd.DataFrame({\"predictions\": predictions.ravel(), \"actual\": new_y})\n",
    "\n",
    "# Display sample data\n",
    "results.head(10)"
   ]
  }
 ],
 "metadata": {
  "kernelspec": {
   "display_name": "vdev",
   "language": "python",
   "name": "vdev"
  },
  "language_info": {
   "codemirror_mode": {
    "name": "ipython",
    "version": 3
   },
   "file_extension": ".py",
   "mimetype": "text/x-python",
   "name": "python",
   "nbconvert_exporter": "python",
   "pygments_lexer": "ipython3",
   "version": "3.7.13"
  }
 },
 "nbformat": 4,
 "nbformat_minor": 5
}
