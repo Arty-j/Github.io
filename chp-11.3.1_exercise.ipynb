{
 "cells": [
  {
   "cell_type": "code",
   "execution_count": null,
   "id": "592fc29d-d9be-4db8-bf90-6c01282e0e42",
   "metadata": {},
   "outputs": [],
   "source": [
    "\n"
   ]
  },
  {
   "cell_type": "code",
   "execution_count": null,
   "id": "88c8e91c-1a61-4aba-a9f8-c4006517d3d9",
   "metadata": {},
   "outputs": [],
   "source": []
  }
 ],
 "metadata": {
  "kernelspec": {
   "display_name": "vdev",
   "language": "python",
   "name": "vdev"
  },
  "language_info": {
   "codemirror_mode": {
    "name": "ipython",
    "version": 3
   },
   "file_extension": ".py",
   "mimetype": "text/x-python",
   "name": "python",
   "nbconvert_exporter": "python",
   "pygments_lexer": "ipython3",
   "version": "3.7.13"
  }
 },
 "nbformat": 4,
 "nbformat_minor": 5
}
